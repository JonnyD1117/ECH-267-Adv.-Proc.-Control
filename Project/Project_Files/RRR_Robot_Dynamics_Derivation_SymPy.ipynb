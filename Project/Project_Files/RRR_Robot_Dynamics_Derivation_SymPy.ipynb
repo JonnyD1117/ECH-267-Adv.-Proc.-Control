{
  "nbformat": 4,
  "nbformat_minor": 0,
  "metadata": {
    "colab": {
      "name": "RRR Robot Dynamics Derivation SymPy.ipynb",
      "provenance": [],
      "collapsed_sections": []
    },
    "kernelspec": {
      "name": "python3",
      "display_name": "Python 3"
    }
  },
  "cells": [
    {
      "cell_type": "code",
      "metadata": {
        "colab": {
          "base_uri": "https://localhost:8080/"
        },
        "id": "DfAimzsjp_C1",
        "outputId": "0797718f-0922-41fe-e42b-30e34ac8aabf"
      },
      "source": [
        "!pip install sympy"
      ],
      "execution_count": null,
      "outputs": [
        {
          "output_type": "stream",
          "text": [
            "Requirement already satisfied: sympy in /usr/local/lib/python3.7/dist-packages (1.1.1)\n",
            "Requirement already satisfied: mpmath>=0.19 in /usr/local/lib/python3.7/dist-packages (from sympy) (1.2.1)\n"
          ],
          "name": "stdout"
        }
      ]
    },
    {
      "cell_type": "code",
      "metadata": {
        "id": "Ck1o2hpEqYSq"
      },
      "source": [
        "from sympy import symbols\r\n",
        "from sympy import *\r\n",
        "from sympy.physics.vector import dynamicsymbols\r\n",
        "# Import Sympy Symbolic Math Library \r\n",
        "\r\n",
        "# Initialize Pretty Printing \r\n",
        "init_printing()\r\n",
        "\r\n",
        "# Declare ALL Symbolic Variables using SymPy\r\n",
        "q1, q2, q3, m1, m2, m3, L1, L2, L3, g, I1, I2, I3,t, Tau1, Tau2, Tau3 = symbols('q1 q2 q3 m1 m2 m3 L1 L2 L3 g I1 I2 I3 t Tau1 Tau2 Tau3')\r\n",
        "\r\n",
        "# Create Generalized Coordinates (functions of time)\r\n",
        "q1 = dynamicsymbols('q1')\r\n",
        "q2 = dynamicsymbols('q2')\r\n",
        "q3 = dynamicsymbols('q3')\r\n",
        "\r\n",
        "# Create Generalized Velocities\r\n",
        "q1_dot = diff(q1, Symbol('t'))\r\n",
        "q2_dot = diff(q2, Symbol('t'))\r\n",
        "q3_dot = diff(q3, Symbol('t'))\r\n",
        "\r\n",
        "# Create Generalized Accelerations\r\n",
        "q1_ddot = diff(q1_dot, Symbol('t'))\r\n",
        "q2_ddot = diff(q2_dot, Symbol('t'))\r\n",
        "q3_ddot = diff(q3_dot, Symbol('t'))\r\n",
        "\r\n",
        "# Use Geometry to define future Kinematic Calculations\r\n",
        "x1 = 0\r\n",
        "x2  =.5*L2*cos(q1)\r\n",
        "x3 = L2*cos(q1) + .5*L3*cos(q2)\r\n",
        "\r\n",
        "y1 = L1\r\n",
        "y2 = L1 + .5*L2*sin(q1)\r\n",
        "y3 = L1 + L2*sin(q1) + .5*L3*sin(q2)\r\n",
        "\r\n",
        "x1_dot = diff(x1, Symbol('t'))\r\n",
        "x2_dot = diff(x2, Symbol('t'))\r\n",
        "x3_dot = diff(x3, Symbol('t'))\r\n",
        "y1_dot = diff(y1, Symbol('t'))\r\n",
        "y2_dot = diff(y2, Symbol('t'))\r\n",
        "y3_dot = diff(y3, Symbol('t'))\r\n",
        "\r\n",
        "\r\n",
        "v1_sqr = x1_dot**2 + y1_dot**2\r\n",
        "v2_sqr = x2_dot**2 + y2_dot**2\r\n",
        "v3_sqr = x3_dot**2 + y3_dot**2\r\n",
        "\r\n",
        "# Define Variables for Constructing Lagrange Equations\r\n",
        "# Potential Energy\r\n",
        "U1 = m1*g*y1\r\n",
        "U2 = m2*g*y2\r\n",
        "U3 = m3*g*y3\r\n",
        "\r\n",
        "U = U1 + U2 + U3\r\n",
        "\r\n",
        "# Kinetic Energy\r\n",
        "K1 = .5*m1*v1_sqr + .5*I1*(q1_dot)**2\r\n",
        "K2 = .5*m2*v2_sqr + .5*I2*(q2_dot)**2\r\n",
        "K3 = .5*m3*v3_sqr + .5*I3*(q3_dot)**2\r\n",
        "\r\n",
        "T = K1 + K2 + K3\r\n",
        "\r\n",
        "# Apply Differentiation for Lagrange EOM\r\n",
        "dU_dq1 = diff(U, q1)\r\n",
        "dU_dq2 = diff(U, q2)\r\n",
        "dU_dq3 = diff(U, q3)\r\n",
        "\r\n",
        "dT_dq1 = diff(T, q1)\r\n",
        "dT_dq2 = diff(T, q2)\r\n",
        "dT_dq3 = diff(T, q3)\r\n",
        "\r\n",
        "dT_d_q1_dot = diff(T, q1_dot)\r\n",
        "dT_d_q2_dot = diff(T, q2_dot)\r\n",
        "dT_d_q3_dot = diff(T, q3_dot)\r\n",
        "\r\n",
        "dt_T_q1_dot = diff(dT_d_q1_dot, t)\r\n",
        "dt_T_q2_dot = diff(dT_d_q2_dot, t)\r\n",
        "dt_T_q3_dot = diff(dT_d_q3_dot, t)\r\n",
        "\r\n",
        "\r\n",
        "# Define Lagrange Equation (Left-Hand-Side)\r\n",
        "eqn1_lhs = simplify(dt_T_q1_dot - dT_dq1 + dU_dq1)\r\n",
        "eqn2_lhs = simplify(dt_T_q2_dot - dT_dq2 + dU_dq2)\r\n",
        "eqn3_lhs = simplify(dt_T_q3_dot - dT_dq3 + dU_dq3)\r\n",
        "\r\n",
        "\r\n",
        "# Complete Lagrange EOM \r\n",
        "# eqn1 = Eq(eqn1_lhs, Tau1)\r\n",
        "# eqn2 = Eq(eqn2_lhs, Tau2)\r\n",
        "# eqn3 = Eq(eqn3_lhs, Tau3)\r\n",
        "\r\n",
        "\r\n",
        "\r\n",
        "\r\n",
        "\r\n",
        "\r\n"
      ],
      "execution_count": null,
      "outputs": []
    },
    {
      "cell_type": "markdown",
      "metadata": {
        "id": "fBoMV24l_oPh"
      },
      "source": [
        "# Obtain Latex Versions of Equations"
      ]
    },
    {
      "cell_type": "code",
      "metadata": {
        "colab": {
          "base_uri": "https://localhost:8080/",
          "height": 146
        },
        "id": "pTFYCFkwqm-M",
        "outputId": "e0b6abd8-813b-441b-8711-88d15f72ffd4"
      },
      "source": [
        "eqn1 = simplify(dt_T_q1_dot - dT_dq1 + dU_dq1)\r\n",
        "eqn1\r\n",
        "\r\n",
        "# latex(eqn1)\r\n",
        "\r\n",
        "latex(eqn1)\r\n",
        "\r\n",
        "\r\n"
      ],
      "execution_count": null,
      "outputs": [
        {
          "output_type": "execute_result",
          "data": {
            "application/vnd.google.colaboratory.intrinsic+json": {
              "type": "string"
            },
            "text/plain": [
              "'1.0 I_{1} \\\\frac{d^{2}}{d t^{2}}  \\\\operatorname{q_{1}}{\\\\left (t \\\\right )} + 0.25 L_{2}^{2} m_{2} \\\\frac{d^{2}}{d t^{2}}  \\\\operatorname{q_{1}}{\\\\left (t \\\\right )} + 1.0 L_{2}^{2} m_{3} \\\\frac{d^{2}}{d t^{2}}  \\\\operatorname{q_{1}}{\\\\left (t \\\\right )} + 0.5 L_{2} L_{3} m_{3} \\\\sin{\\\\left (\\\\operatorname{q_{1}}{\\\\left (t \\\\right )} - \\\\operatorname{q_{2}}{\\\\left (t \\\\right )} \\\\right )} \\\\left(\\\\frac{d}{d t} \\\\operatorname{q_{2}}{\\\\left (t \\\\right )}\\\\right)^{2} + 0.5 L_{2} L_{3} m_{3} \\\\cos{\\\\left (\\\\operatorname{q_{1}}{\\\\left (t \\\\right )} - \\\\operatorname{q_{2}}{\\\\left (t \\\\right )} \\\\right )} \\\\frac{d^{2}}{d t^{2}}  \\\\operatorname{q_{2}}{\\\\left (t \\\\right )} + 0.5 L_{2} g m_{2} \\\\cos{\\\\left (\\\\operatorname{q_{1}}{\\\\left (t \\\\right )} \\\\right )} + 1.0 L_{2} g m_{3} \\\\cos{\\\\left (\\\\operatorname{q_{1}}{\\\\left (t \\\\right )} \\\\right )}'"
            ]
          },
          "metadata": {
            "tags": []
          },
          "execution_count": 6
        }
      ]
    },
    {
      "cell_type": "code",
      "metadata": {
        "colab": {
          "base_uri": "https://localhost:8080/",
          "height": 128
        },
        "id": "Q85W1Gqt_maz",
        "outputId": "4b678884-762a-4370-99b0-1a65b9a659dc"
      },
      "source": [
        "eqn2 = simplify(dt_T_q2_dot - dT_dq2 + dU_dq2)\r\n",
        "eqn2\r\n",
        "\r\n",
        "latex(eqn2)"
      ],
      "execution_count": null,
      "outputs": [
        {
          "output_type": "execute_result",
          "data": {
            "application/vnd.google.colaboratory.intrinsic+json": {
              "type": "string"
            },
            "text/plain": [
              "'1.0 I_{2} \\\\frac{d^{2}}{d t^{2}}  \\\\operatorname{q_{2}}{\\\\left (t \\\\right )} - 0.5 L_{2} L_{3} m_{3} \\\\sin{\\\\left (\\\\operatorname{q_{1}}{\\\\left (t \\\\right )} - \\\\operatorname{q_{2}}{\\\\left (t \\\\right )} \\\\right )} \\\\left(\\\\frac{d}{d t} \\\\operatorname{q_{1}}{\\\\left (t \\\\right )}\\\\right)^{2} + 0.5 L_{2} L_{3} m_{3} \\\\cos{\\\\left (\\\\operatorname{q_{1}}{\\\\left (t \\\\right )} - \\\\operatorname{q_{2}}{\\\\left (t \\\\right )} \\\\right )} \\\\frac{d^{2}}{d t^{2}}  \\\\operatorname{q_{1}}{\\\\left (t \\\\right )} + 0.25 L_{3}^{2} m_{3} \\\\frac{d^{2}}{d t^{2}}  \\\\operatorname{q_{2}}{\\\\left (t \\\\right )} + 0.5 L_{3} g m_{3} \\\\cos{\\\\left (\\\\operatorname{q_{2}}{\\\\left (t \\\\right )} \\\\right )}'"
            ]
          },
          "metadata": {
            "tags": []
          },
          "execution_count": 7
        }
      ]
    },
    {
      "cell_type": "code",
      "metadata": {
        "colab": {
          "base_uri": "https://localhost:8080/",
          "height": 40
        },
        "id": "r-Ppbqqn_s8z",
        "outputId": "d89a7e1f-4c01-435d-8319-ddda97a3acd8"
      },
      "source": [
        "eqn3 = simplify(dt_T_q3_dot - dT_dq3 + dU_dq3)\r\n",
        "eqn3\r\n",
        "\r\n"
      ],
      "execution_count": null,
      "outputs": [
        {
          "output_type": "execute_result",
          "data": {
            "image/png": "[encoded data removed]",
            "text/latex": "$$1.0 I_{3} \\frac{d^{2}}{d t^{2}}  \\operatorname{q_{3}}{\\left (t \\right )}$$",
            "text/plain": [
              "         2       \n",
              "        d        \n",
              "1.0⋅I₃⋅───(q₃(t))\n",
              "         2       \n",
              "       dt        "
            ]
          },
          "metadata": {
            "tags": []
          },
          "execution_count": 8
        }
      ]
    },
    {
      "cell_type": "markdown",
      "metadata": {
        "id": "n6dZOZIk_3I2"
      },
      "source": [
        "# Something Different IDK"
      ]
    },
    {
      "cell_type": "code",
      "metadata": {
        "colab": {
          "base_uri": "https://localhost:8080/",
          "height": 38
        },
        "id": "eIF1t9KTsJ7f",
        "outputId": "2fda00a9-539e-49b0-8235-33d549ecd7e8"
      },
      "source": [
        "q2_ddot = diff(q2_dot, Symbol('t'))\r\n",
        "\r\n",
        "\r\n",
        "t2 = collect(eqn1,q2_ddot, exact=True, evaluate=False)\r\n",
        "t2[q2_ddot]"
      ],
      "execution_count": null,
      "outputs": [
        {
          "output_type": "execute_result",
          "data": {
            "image/png": "[encoded data removed]",
            "text/latex": "$$0.5 L_{2} L_{3} m_{3} \\cos{\\left (\\operatorname{q_{1}}{\\left (t \\right )} - \\operatorname{q_{2}}{\\left (t \\right )} \\right )}$$",
            "text/plain": [
              "0.5⋅L₂⋅L₃⋅m₃⋅cos(q₁(t) - q₂(t))"
            ]
          },
          "metadata": {
            "tags": []
          },
          "execution_count": 35
        }
      ]
    },
    {
      "cell_type": "code",
      "metadata": {
        "colab": {
          "base_uri": "https://localhost:8080/",
          "height": 38
        },
        "id": "BND7fJgzsOip",
        "outputId": "44736362-9ff8-4e7e-bf3e-eb0b36a7f88f"
      },
      "source": [
        "\r\n",
        "\r\n",
        "t3 = collect(eqn1,(q2_dot)**2, exact=True, evaluate=False)\r\n",
        "t3[q2_dot**2]"
      ],
      "execution_count": null,
      "outputs": [
        {
          "output_type": "execute_result",
          "data": {
            "image/png": "[encoded data removed]",
            "text/latex": "$$0.5 L_{2} L_{3} m_{3} \\sin{\\left (\\operatorname{q_{1}}{\\left (t \\right )} - \\operatorname{q_{2}}{\\left (t \\right )} \\right )}$$",
            "text/plain": [
              "0.5⋅L₂⋅L₃⋅m₃⋅sin(q₁(t) - q₂(t))"
            ]
          },
          "metadata": {
            "tags": []
          },
          "execution_count": 36
        }
      ]
    },
    {
      "cell_type": "code",
      "metadata": {
        "colab": {
          "base_uri": "https://localhost:8080/",
          "height": 164
        },
        "id": "YBJmubc6qnJ9",
        "outputId": "63ca5e6b-0f82-462e-df67-b4cac6982d77"
      },
      "source": [
        "eqn2 = Eq(dt_T_q2_dot - dT_dq2 + dU_dq2, Tau2)\r\n",
        "eqn2\r\n",
        "\r\n",
        "latex(eqn2)\r\n"
      ],
      "execution_count": null,
      "outputs": [
        {
          "output_type": "execute_result",
          "data": {
            "application/vnd.google.colaboratory.intrinsic+json": {
              "type": "string"
            },
            "text/plain": [
              "'1.0 I_{2} \\\\frac{d^{2}}{d t^{2}}  \\\\operatorname{q_{2}}{\\\\left (t \\\\right )} - 0.5 m_{3} \\\\left(- 1.0 L_{3} \\\\left(- L_{2} \\\\sin{\\\\left (\\\\operatorname{q_{1}}{\\\\left (t \\\\right )} \\\\right )} \\\\frac{d}{d t} \\\\operatorname{q_{1}}{\\\\left (t \\\\right )} - 0.5 L_{3} \\\\sin{\\\\left (\\\\operatorname{q_{2}}{\\\\left (t \\\\right )} \\\\right )} \\\\frac{d}{d t} \\\\operatorname{q_{2}}{\\\\left (t \\\\right )}\\\\right) \\\\cos{\\\\left (\\\\operatorname{q_{2}}{\\\\left (t \\\\right )} \\\\right )} \\\\frac{d}{d t} \\\\operatorname{q_{2}}{\\\\left (t \\\\right )} - 1.0 L_{3} \\\\left(L_{2} \\\\cos{\\\\left (\\\\operatorname{q_{1}}{\\\\left (t \\\\right )} \\\\right )} \\\\frac{d}{d t} \\\\operatorname{q_{1}}{\\\\left (t \\\\right )} + 0.5 L_{3} \\\\cos{\\\\left (\\\\operatorname{q_{2}}{\\\\left (t \\\\right )} \\\\right )} \\\\frac{d}{d t} \\\\operatorname{q_{2}}{\\\\left (t \\\\right )}\\\\right) \\\\sin{\\\\left (\\\\operatorname{q_{2}}{\\\\left (t \\\\right )} \\\\right )} \\\\frac{d}{d t} \\\\operatorname{q_{2}}{\\\\left (t \\\\right )}\\\\right) + 0.5 m_{3} \\\\left(- 1.0 L_{3} \\\\left(- L_{2} \\\\sin{\\\\left (\\\\operatorname{q_{1}}{\\\\left (t \\\\right )} \\\\right )} \\\\frac{d}{d t} \\\\operatorname{q_{1}}{\\\\left (t \\\\right )} - 0.5 L_{3} \\\\sin{\\\\left (\\\\operatorname{q_{2}}{\\\\left (t \\\\right )} \\\\right )} \\\\frac{d}{d t} \\\\operatorname{q_{2}}{\\\\left (t \\\\right )}\\\\right) \\\\cos{\\\\left (\\\\operatorname{q_{2}}{\\\\left (t \\\\right )} \\\\right )} \\\\frac{d}{d t} \\\\operatorname{q_{2}}{\\\\left (t \\\\right )} - 1.0 L_{3} \\\\left(L_{2} \\\\cos{\\\\left (\\\\operatorname{q_{1}}{\\\\left (t \\\\right )} \\\\right )} \\\\frac{d}{d t} \\\\operatorname{q_{1}}{\\\\left (t \\\\right )} + 0.5 L_{3} \\\\cos{\\\\left (\\\\operatorname{q_{2}}{\\\\left (t \\\\right )} \\\\right )} \\\\frac{d}{d t} \\\\operatorname{q_{2}}{\\\\left (t \\\\right )}\\\\right) \\\\sin{\\\\left (\\\\operatorname{q_{2}}{\\\\left (t \\\\right )} \\\\right )} \\\\frac{d}{d t} \\\\operatorname{q_{2}}{\\\\left (t \\\\right )} + 1.0 L_{3} \\\\left(- L_{2} \\\\sin{\\\\left (\\\\operatorname{q_{1}}{\\\\left (t \\\\right )} \\\\right )} \\\\left(\\\\frac{d}{d t} \\\\operatorname{q_{1}}{\\\\left (t \\\\right )}\\\\right)^{2} + L_{2} \\\\cos{\\\\left (\\\\operatorname{q_{1}}{\\\\left (t \\\\right )} \\\\right )} \\\\frac{d^{2}}{d t^{2}}  \\\\operatorname{q_{1}}{\\\\left (t \\\\right )} - 0.5 L_{3} \\\\sin{\\\\left (\\\\operatorname{q_{2}}{\\\\left (t \\\\right )} \\\\right )} \\\\left(\\\\frac{d}{d t} \\\\operatorname{q_{2}}{\\\\left (t \\\\right )}\\\\right)^{2} + 0.5 L_{3} \\\\cos{\\\\left (\\\\operatorname{q_{2}}{\\\\left (t \\\\right )} \\\\right )} \\\\frac{d^{2}}{d t^{2}}  \\\\operatorname{q_{2}}{\\\\left (t \\\\right )}\\\\right) \\\\cos{\\\\left (\\\\operatorname{q_{2}}{\\\\left (t \\\\right )} \\\\right )} - 1.0 L_{3} \\\\left(- L_{2} \\\\sin{\\\\left (\\\\operatorname{q_{1}}{\\\\left (t \\\\right )} \\\\right )} \\\\frac{d^{2}}{d t^{2}}  \\\\operatorname{q_{1}}{\\\\left (t \\\\right )} - L_{2} \\\\cos{\\\\left (\\\\operatorname{q_{1}}{\\\\left (t \\\\right )} \\\\right )} \\\\left(\\\\frac{d}{d t} \\\\operatorname{q_{1}}{\\\\left (t \\\\right )}\\\\right)^{2} - 0.5 L_{3} \\\\sin{\\\\left (\\\\operatorname{q_{2}}{\\\\left (t \\\\right )} \\\\right )} \\\\frac{d^{2}}{d t^{2}}  \\\\operatorname{q_{2}}{\\\\left (t \\\\right )} - 0.5 L_{3} \\\\cos{\\\\left (\\\\operatorname{q_{2}}{\\\\left (t \\\\right )} \\\\right )} \\\\left(\\\\frac{d}{d t} \\\\operatorname{q_{2}}{\\\\left (t \\\\right )}\\\\right)^{2}\\\\right) \\\\sin{\\\\left (\\\\operatorname{q_{2}}{\\\\left (t \\\\right )} \\\\right )}\\\\right) = T_{2}'"
            ]
          },
          "metadata": {
            "tags": []
          },
          "execution_count": 48
        }
      ]
    },
    {
      "cell_type": "code",
      "metadata": {
        "colab": {
          "base_uri": "https://localhost:8080/",
          "height": 109
        },
        "id": "EkK0VdLpsZE1",
        "outputId": "d5007bc5-0e9c-4fd4-b716-8b1923536b9a"
      },
      "source": [
        "q1_ddot = diff(q1_dot, Symbol('t'))\r\n",
        "\r\n",
        "eqn2 = simplify(dt_T_q2_dot - dT_dq2 + dU_dq2)\r\n",
        "eqn2\r\n",
        "\r\n",
        "latex(eqn2)\r\n",
        "\r\n",
        "\r\n",
        "# t1_2 = collect(eqn2, q2_ddot, exact=True, evaluate=False)\r\n",
        "# t1_2[q2_ddot]"
      ],
      "execution_count": null,
      "outputs": [
        {
          "output_type": "execute_result",
          "data": {
            "application/vnd.google.colaboratory.intrinsic+json": {
              "type": "string"
            },
            "text/plain": [
              "'1.0 I_{2} \\\\frac{d^{2}}{d t^{2}}  \\\\operatorname{q_{2}}{\\\\left (t \\\\right )} - 0.5 L_{2} L_{3} m_{3} \\\\sin{\\\\left (\\\\operatorname{q_{1}}{\\\\left (t \\\\right )} - \\\\operatorname{q_{2}}{\\\\left (t \\\\right )} \\\\right )} \\\\left(\\\\frac{d}{d t} \\\\operatorname{q_{1}}{\\\\left (t \\\\right )}\\\\right)^{2} + 0.5 L_{2} L_{3} m_{3} \\\\cos{\\\\left (\\\\operatorname{q_{1}}{\\\\left (t \\\\right )} - \\\\operatorname{q_{2}}{\\\\left (t \\\\right )} \\\\right )} \\\\frac{d^{2}}{d t^{2}}  \\\\operatorname{q_{1}}{\\\\left (t \\\\right )} + 0.25 L_{3}^{2} m_{3} \\\\frac{d^{2}}{d t^{2}}  \\\\operatorname{q_{2}}{\\\\left (t \\\\right )}'"
            ]
          },
          "metadata": {
            "tags": []
          },
          "execution_count": 50
        }
      ]
    },
    {
      "cell_type": "code",
      "metadata": {
        "colab": {
          "base_uri": "https://localhost:8080/",
          "height": 36
        },
        "id": "UQWao8JfqnRu",
        "outputId": "0ef4b637-6a6c-464c-ddee-f6fd6c89948b"
      },
      "source": [
        "eqn3 = Eq(dt_T_q3_dot - dT_dq3 + dU_dq3, Tau3)\r\n",
        "eqn3\r\n",
        "\r\n",
        "\r\n",
        "eqn3 = simplify(eqn3)\r\n",
        "\r\n",
        "latex(eqn3)\r\n",
        "\r\n"
      ],
      "execution_count": null,
      "outputs": [
        {
          "output_type": "execute_result",
          "data": {
            "application/vnd.google.colaboratory.intrinsic+json": {
              "type": "string"
            },
            "text/plain": [
              "'T_{3} = 1.0 I_{3} \\\\frac{d^{2}}{d t^{2}}  \\\\operatorname{q_{3}}{\\\\left (t \\\\right )}'"
            ]
          },
          "metadata": {
            "tags": []
          },
          "execution_count": 45
        }
      ]
    },
    {
      "cell_type": "code",
      "metadata": {
        "id": "M17EEYd_69i5"
      },
      "source": [
        "\r\n",
        "\r\n",
        "Tau1 = I1*q1_dot_dot + 0.25*L2**2*m2*q1_dot_dot + 1.0*L2**2*m3*q1_dot_dot + 0.5*L2*L3*m3*sin(q1(t) - q2(t))*q1_dot**2 + 0.5*L2*L3*m3*cos(q1(t) - q2(t))*q1_dot_dot)\r\n",
        "Tau2 = I2*q2_dot_dot - 0.5*m3*(-1.0*L3*(-L2*sin(q1(t))*q1_dot - 0.5*L3*sin(q2(t))*q2_dot)*cos(q2(t))*q2_dot - 1.0*L3*(L2*cos(q1(t))*q1_dot + 0.5*L3*cos(q2(t))*q2_dot)*sin(q2(t))*q2_dot) + 0.5*m3*(-1.0*L3*(-L2*sin(q1(t))*q1_dot - 0.5*L3*sin(q2(t))*q2_dot)*cos(q2(t))*q2_dot - 1.0*L3*(L2*cos(q1(t))*q1_dot + 0.5*L3*cos(q2(t))*q2_dot)*sin(q2(t))*q2_dot + 1.0*L3*(-L2*sin(q1(t))*q1_dot**2 + L2*cos(q1(t))*q1_dot_dot - 0.5*L3*sin(q2(t))*q2_dot**2 + 0.5*L3*cos(q2(t))*q2_dot_dot)*cos(q2(t)) - 1.0*L3*(-L2*sin(q1(t))*q1_dot_dot - L2*cos(q1(t))*q1_dot**2 - 0.5*L3*sin(q2(t))*q2_dot_dot - 0.5*L3*cos(q2(t))*q2_dot**2)*sin(q2(t)))\r\n",
        "Tau3 = I3*q3_dot_dot"
      ],
      "execution_count": null,
      "outputs": []
    },
    {
      "cell_type": "markdown",
      "metadata": {
        "id": "KpEEome4wSzB"
      },
      "source": [
        "# Bullshit"
      ]
    },
    {
      "cell_type": "code",
      "metadata": {
        "colab": {
          "base_uri": "https://localhost:8080/",
          "height": 91
        },
        "id": "dio6dIv_wliX",
        "outputId": "dedd96e9-aaf0-4255-f67b-32b237a5d5e1"
      },
      "source": [
        "\r\n",
        "q3_ddot = diff(q3_dot, Symbol('t'))\r\n",
        "\r\n",
        "\r\n",
        "M = Matrix([[(I1+.25*L2**2*m2+L2**2*m3), (.5*L2*L3*m3*cos(q1-q2)), (0)  ],[(.5*L2*L3*m3*cos(q1-q2)), (I2+.25*L3**2*m3),(0)],[0,0, I3]])\r\n",
        "\r\n",
        "latex(M)"
      ],
      "execution_count": null,
      "outputs": [
        {
          "output_type": "execute_result",
          "data": {
            "application/vnd.google.colaboratory.intrinsic+json": {
              "type": "string"
            },
            "text/plain": [
              "'\\\\left[\\\\begin{matrix}I_{1} + 0.25 L_{2}^{2} m_{2} + L_{2}^{2} m_{3} & 0.5 L_{2} L_{3} m_{3} \\\\cos{\\\\left (\\\\operatorname{q_{1}}{\\\\left (t \\\\right )} - \\\\operatorname{q_{2}}{\\\\left (t \\\\right )} \\\\right )} & 0\\\\\\\\0.5 L_{2} L_{3} m_{3} \\\\cos{\\\\left (\\\\operatorname{q_{1}}{\\\\left (t \\\\right )} - \\\\operatorname{q_{2}}{\\\\left (t \\\\right )} \\\\right )} & I_{2} + 0.25 L_{3}^{2} m_{3} & 0\\\\\\\\0 & 0 & I_{3}\\\\end{matrix}\\\\right]'"
            ]
          },
          "metadata": {
            "tags": []
          },
          "execution_count": 9
        }
      ]
    },
    {
      "cell_type": "code",
      "metadata": {
        "colab": {
          "base_uri": "https://localhost:8080/",
          "height": 91
        },
        "id": "FanhyZvtzFQ0",
        "outputId": "e0bc7a28-5785-4e44-cc8d-1198b9885c87"
      },
      "source": [
        "V_q_q_dot = Matrix([[.5*L2*L3*m3*sin(q1-q2)*(q2_dot)**2],[-.5*L2*L3*m3*sin(q1-q2)*(q1_dot)**2],[0]])\r\n",
        "latex(V_q_q_dot)"
      ],
      "execution_count": null,
      "outputs": [
        {
          "output_type": "execute_result",
          "data": {
            "application/vnd.google.colaboratory.intrinsic+json": {
              "type": "string"
            },
            "text/plain": [
              "'\\\\left[\\\\begin{matrix}0.5 L_{2} L_{3} m_{3} \\\\sin{\\\\left (\\\\operatorname{q_{1}}{\\\\left (t \\\\right )} - \\\\operatorname{q_{2}}{\\\\left (t \\\\right )} \\\\right )} \\\\left(\\\\frac{d}{d t} \\\\operatorname{q_{2}}{\\\\left (t \\\\right )}\\\\right)^{2}\\\\\\\\- 0.5 L_{2} L_{3} m_{3} \\\\sin{\\\\left (\\\\operatorname{q_{1}}{\\\\left (t \\\\right )} - \\\\operatorname{q_{2}}{\\\\left (t \\\\right )} \\\\right )} \\\\left(\\\\frac{d}{d t} \\\\operatorname{q_{1}}{\\\\left (t \\\\right )}\\\\right)^{2}\\\\\\\\0\\\\end{matrix}\\\\right]'"
            ]
          },
          "metadata": {
            "tags": []
          },
          "execution_count": 10
        }
      ]
    },
    {
      "cell_type": "code",
      "metadata": {
        "colab": {
          "base_uri": "https://localhost:8080/",
          "height": 72
        },
        "id": "j-twPMWLBubL",
        "outputId": "19f81a76-543f-4bb8-e1cd-a8033697199d"
      },
      "source": [
        "K_theta = Matrix([[.5*L2*g*m2*cos(q1)+L2*g*m3*cos(q1)],[.5*L3*m3*cos(q2)],[0]])\r\n",
        "latex(K_theta)"
      ],
      "execution_count": null,
      "outputs": [
        {
          "output_type": "execute_result",
          "data": {
            "application/vnd.google.colaboratory.intrinsic+json": {
              "type": "string"
            },
            "text/plain": [
              "'\\\\left[\\\\begin{matrix}0.5 L_{2} g m_{2} \\\\cos{\\\\left (\\\\operatorname{q_{1}}{\\\\left (t \\\\right )} \\\\right )} + L_{2} g m_{3} \\\\cos{\\\\left (\\\\operatorname{q_{1}}{\\\\left (t \\\\right )} \\\\right )}\\\\\\\\0.5 L_{3} m_{3} \\\\cos{\\\\left (\\\\operatorname{q_{2}}{\\\\left (t \\\\right )} \\\\right )}\\\\\\\\0\\\\end{matrix}\\\\right]'"
            ]
          },
          "metadata": {
            "tags": []
          },
          "execution_count": 12
        }
      ]
    }
  ]
}